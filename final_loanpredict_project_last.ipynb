{
  "nbformat": 4,
  "nbformat_minor": 0,
  "metadata": {
    "colab": {
      "name": "final_project_last.ipynb",
      "provenance": [],
      "collapsed_sections": [
        "TowcyUfPulp9",
        "mTtepVSSnlq7",
        "vFUpa8L31_6Y",
        "IapF7oKu30Hs",
        "nGc7Fw6BAR97",
        "SQccsYd0LkhI",
        "ccQUdJxIeONm"
      ]
    },
    "kernelspec": {
      "name": "python3",
      "display_name": "Python 3"
    }
  },
  "cells": [
    {
      "cell_type": "markdown",
      "metadata": {
        "id": "qKL4FPn4YXHe"
      },
      "source": [
        "<h4> รายชื่อสมาชิก <br>\r\n",
        "นาย ศุภกร ทวีชัยนฤมิตร     <b>61102010164</b> <br>\r\n",
        "นาย ศุภวิชญ์ จรัสพรศรีวงศ์ <b>61102010165</b> <br>\r\n",
        "นาย กันติวิทย์ สุวัฒนมาลา  <b>61102010418</b> <br>\r\n",
        "นาย ณัฐิวุฒิ เอกธาราวงศ์    <b>61102010423</b> <br>\r\n",
        "</h4>"
      ]
    },
    {
      "cell_type": "markdown",
      "metadata": {
        "id": "TowcyUfPulp9"
      },
      "source": [
        "# Data Explore"
      ]
    },
    {
      "cell_type": "code",
      "metadata": {
        "id": "gmAiSq0pg-yt"
      },
      "source": [
        "#import library\r\n",
        "\r\n",
        "%matplotlib inline\r\n",
        "import numpy as np\r\n",
        "import pandas as pd\r\n",
        "import matplotlib.pyplot as plt\r\n",
        "import seaborn as sns"
      ],
      "execution_count": 55,
      "outputs": []
    },
    {
      "cell_type": "code",
      "metadata": {
        "id": "14kGm0-MfFup"
      },
      "source": [
        "#ทำการอ่านไฟล์\r\n",
        "trained_data = pd.read_csv(\"/content/train_ctrUa4K.csv\")\r\n",
        "tested_data = pd.read_csv(\"/content/test_lAUu6dG.csv\")"
      ],
      "execution_count": 56,
      "outputs": []
    },
    {
      "cell_type": "code",
      "metadata": {
        "id": "j4E5a8_PVQMM"
      },
      "source": [
        "#copy test file ไว้ทำการใส่ค่าจากการทำนายเพื่อสร้างไฟล์ในภายหลัง\r\n",
        "tested_data2=tested_data.copy()"
      ],
      "execution_count": 57,
      "outputs": []
    },
    {
      "cell_type": "code",
      "metadata": {
        "colab": {
          "base_uri": "https://localhost:8080/",
          "height": 0
        },
        "id": "GBvHePNegjti",
        "outputId": "d7ecabfa-bf72-45b9-8eca-fcb89d179524"
      },
      "source": [
        "#view first 10 rows of training dataset *จะพบว่ามีค่าNaN อยู่ ต้องแก้ไขในภายหลัง*\r\n",
        "trained_data.head(10)"
      ],
      "execution_count": 58,
      "outputs": [
        {
          "output_type": "execute_result",
          "data": {
            "text/html": [
              "<div>\n",
              "<style scoped>\n",
              "    .dataframe tbody tr th:only-of-type {\n",
              "        vertical-align: middle;\n",
              "    }\n",
              "\n",
              "    .dataframe tbody tr th {\n",
              "        vertical-align: top;\n",
              "    }\n",
              "\n",
              "    .dataframe thead th {\n",
              "        text-align: right;\n",
              "    }\n",
              "</style>\n",
              "<table border=\"1\" class=\"dataframe\">\n",
              "  <thead>\n",
              "    <tr style=\"text-align: right;\">\n",
              "      <th></th>\n",
              "      <th>Loan_ID</th>\n",
              "      <th>Gender</th>\n",
              "      <th>Married</th>\n",
              "      <th>Dependents</th>\n",
              "      <th>Education</th>\n",
              "      <th>Self_Employed</th>\n",
              "      <th>ApplicantIncome</th>\n",
              "      <th>CoapplicantIncome</th>\n",
              "      <th>LoanAmount</th>\n",
              "      <th>Loan_Amount_Term</th>\n",
              "      <th>Credit_History</th>\n",
              "      <th>Property_Area</th>\n",
              "      <th>Loan_Status</th>\n",
              "    </tr>\n",
              "  </thead>\n",
              "  <tbody>\n",
              "    <tr>\n",
              "      <th>0</th>\n",
              "      <td>LP001002</td>\n",
              "      <td>Male</td>\n",
              "      <td>No</td>\n",
              "      <td>0</td>\n",
              "      <td>Graduate</td>\n",
              "      <td>No</td>\n",
              "      <td>5849</td>\n",
              "      <td>0.0</td>\n",
              "      <td>NaN</td>\n",
              "      <td>360.0</td>\n",
              "      <td>1.0</td>\n",
              "      <td>Urban</td>\n",
              "      <td>Y</td>\n",
              "    </tr>\n",
              "    <tr>\n",
              "      <th>1</th>\n",
              "      <td>LP001003</td>\n",
              "      <td>Male</td>\n",
              "      <td>Yes</td>\n",
              "      <td>1</td>\n",
              "      <td>Graduate</td>\n",
              "      <td>No</td>\n",
              "      <td>4583</td>\n",
              "      <td>1508.0</td>\n",
              "      <td>128.0</td>\n",
              "      <td>360.0</td>\n",
              "      <td>1.0</td>\n",
              "      <td>Rural</td>\n",
              "      <td>N</td>\n",
              "    </tr>\n",
              "    <tr>\n",
              "      <th>2</th>\n",
              "      <td>LP001005</td>\n",
              "      <td>Male</td>\n",
              "      <td>Yes</td>\n",
              "      <td>0</td>\n",
              "      <td>Graduate</td>\n",
              "      <td>Yes</td>\n",
              "      <td>3000</td>\n",
              "      <td>0.0</td>\n",
              "      <td>66.0</td>\n",
              "      <td>360.0</td>\n",
              "      <td>1.0</td>\n",
              "      <td>Urban</td>\n",
              "      <td>Y</td>\n",
              "    </tr>\n",
              "    <tr>\n",
              "      <th>3</th>\n",
              "      <td>LP001006</td>\n",
              "      <td>Male</td>\n",
              "      <td>Yes</td>\n",
              "      <td>0</td>\n",
              "      <td>Not Graduate</td>\n",
              "      <td>No</td>\n",
              "      <td>2583</td>\n",
              "      <td>2358.0</td>\n",
              "      <td>120.0</td>\n",
              "      <td>360.0</td>\n",
              "      <td>1.0</td>\n",
              "      <td>Urban</td>\n",
              "      <td>Y</td>\n",
              "    </tr>\n",
              "    <tr>\n",
              "      <th>4</th>\n",
              "      <td>LP001008</td>\n",
              "      <td>Male</td>\n",
              "      <td>No</td>\n",
              "      <td>0</td>\n",
              "      <td>Graduate</td>\n",
              "      <td>No</td>\n",
              "      <td>6000</td>\n",
              "      <td>0.0</td>\n",
              "      <td>141.0</td>\n",
              "      <td>360.0</td>\n",
              "      <td>1.0</td>\n",
              "      <td>Urban</td>\n",
              "      <td>Y</td>\n",
              "    </tr>\n",
              "    <tr>\n",
              "      <th>5</th>\n",
              "      <td>LP001011</td>\n",
              "      <td>Male</td>\n",
              "      <td>Yes</td>\n",
              "      <td>2</td>\n",
              "      <td>Graduate</td>\n",
              "      <td>Yes</td>\n",
              "      <td>5417</td>\n",
              "      <td>4196.0</td>\n",
              "      <td>267.0</td>\n",
              "      <td>360.0</td>\n",
              "      <td>1.0</td>\n",
              "      <td>Urban</td>\n",
              "      <td>Y</td>\n",
              "    </tr>\n",
              "    <tr>\n",
              "      <th>6</th>\n",
              "      <td>LP001013</td>\n",
              "      <td>Male</td>\n",
              "      <td>Yes</td>\n",
              "      <td>0</td>\n",
              "      <td>Not Graduate</td>\n",
              "      <td>No</td>\n",
              "      <td>2333</td>\n",
              "      <td>1516.0</td>\n",
              "      <td>95.0</td>\n",
              "      <td>360.0</td>\n",
              "      <td>1.0</td>\n",
              "      <td>Urban</td>\n",
              "      <td>Y</td>\n",
              "    </tr>\n",
              "    <tr>\n",
              "      <th>7</th>\n",
              "      <td>LP001014</td>\n",
              "      <td>Male</td>\n",
              "      <td>Yes</td>\n",
              "      <td>3+</td>\n",
              "      <td>Graduate</td>\n",
              "      <td>No</td>\n",
              "      <td>3036</td>\n",
              "      <td>2504.0</td>\n",
              "      <td>158.0</td>\n",
              "      <td>360.0</td>\n",
              "      <td>0.0</td>\n",
              "      <td>Semiurban</td>\n",
              "      <td>N</td>\n",
              "    </tr>\n",
              "    <tr>\n",
              "      <th>8</th>\n",
              "      <td>LP001018</td>\n",
              "      <td>Male</td>\n",
              "      <td>Yes</td>\n",
              "      <td>2</td>\n",
              "      <td>Graduate</td>\n",
              "      <td>No</td>\n",
              "      <td>4006</td>\n",
              "      <td>1526.0</td>\n",
              "      <td>168.0</td>\n",
              "      <td>360.0</td>\n",
              "      <td>1.0</td>\n",
              "      <td>Urban</td>\n",
              "      <td>Y</td>\n",
              "    </tr>\n",
              "    <tr>\n",
              "      <th>9</th>\n",
              "      <td>LP001020</td>\n",
              "      <td>Male</td>\n",
              "      <td>Yes</td>\n",
              "      <td>1</td>\n",
              "      <td>Graduate</td>\n",
              "      <td>No</td>\n",
              "      <td>12841</td>\n",
              "      <td>10968.0</td>\n",
              "      <td>349.0</td>\n",
              "      <td>360.0</td>\n",
              "      <td>1.0</td>\n",
              "      <td>Semiurban</td>\n",
              "      <td>N</td>\n",
              "    </tr>\n",
              "  </tbody>\n",
              "</table>\n",
              "</div>"
            ],
            "text/plain": [
              "    Loan_ID Gender Married  ... Credit_History Property_Area Loan_Status\n",
              "0  LP001002   Male      No  ...            1.0         Urban           Y\n",
              "1  LP001003   Male     Yes  ...            1.0         Rural           N\n",
              "2  LP001005   Male     Yes  ...            1.0         Urban           Y\n",
              "3  LP001006   Male     Yes  ...            1.0         Urban           Y\n",
              "4  LP001008   Male      No  ...            1.0         Urban           Y\n",
              "5  LP001011   Male     Yes  ...            1.0         Urban           Y\n",
              "6  LP001013   Male     Yes  ...            1.0         Urban           Y\n",
              "7  LP001014   Male     Yes  ...            0.0     Semiurban           N\n",
              "8  LP001018   Male     Yes  ...            1.0         Urban           Y\n",
              "9  LP001020   Male     Yes  ...            1.0     Semiurban           N\n",
              "\n",
              "[10 rows x 13 columns]"
            ]
          },
          "metadata": {
            "tags": []
          },
          "execution_count": 58
        }
      ]
    },
    {
      "cell_type": "code",
      "metadata": {
        "colab": {
          "base_uri": "https://localhost:8080/",
          "height": 0
        },
        "id": "y1YLHYq1gvzM",
        "outputId": "06f2e4c2-1a0b-46cb-e5ac-f2466685c315"
      },
      "source": [
        "#view first 10 rows of tested dataset *จะพบว่ามีค่าNaN อยู่ ต้องแก้ไขในภายหลัง*\r\n",
        "tested_data.head(10)"
      ],
      "execution_count": 59,
      "outputs": [
        {
          "output_type": "execute_result",
          "data": {
            "text/html": [
              "<div>\n",
              "<style scoped>\n",
              "    .dataframe tbody tr th:only-of-type {\n",
              "        vertical-align: middle;\n",
              "    }\n",
              "\n",
              "    .dataframe tbody tr th {\n",
              "        vertical-align: top;\n",
              "    }\n",
              "\n",
              "    .dataframe thead th {\n",
              "        text-align: right;\n",
              "    }\n",
              "</style>\n",
              "<table border=\"1\" class=\"dataframe\">\n",
              "  <thead>\n",
              "    <tr style=\"text-align: right;\">\n",
              "      <th></th>\n",
              "      <th>Loan_ID</th>\n",
              "      <th>Gender</th>\n",
              "      <th>Married</th>\n",
              "      <th>Dependents</th>\n",
              "      <th>Education</th>\n",
              "      <th>Self_Employed</th>\n",
              "      <th>ApplicantIncome</th>\n",
              "      <th>CoapplicantIncome</th>\n",
              "      <th>LoanAmount</th>\n",
              "      <th>Loan_Amount_Term</th>\n",
              "      <th>Credit_History</th>\n",
              "      <th>Property_Area</th>\n",
              "    </tr>\n",
              "  </thead>\n",
              "  <tbody>\n",
              "    <tr>\n",
              "      <th>0</th>\n",
              "      <td>LP001015</td>\n",
              "      <td>Male</td>\n",
              "      <td>Yes</td>\n",
              "      <td>0</td>\n",
              "      <td>Graduate</td>\n",
              "      <td>No</td>\n",
              "      <td>5720</td>\n",
              "      <td>0</td>\n",
              "      <td>110.0</td>\n",
              "      <td>360.0</td>\n",
              "      <td>1.0</td>\n",
              "      <td>Urban</td>\n",
              "    </tr>\n",
              "    <tr>\n",
              "      <th>1</th>\n",
              "      <td>LP001022</td>\n",
              "      <td>Male</td>\n",
              "      <td>Yes</td>\n",
              "      <td>1</td>\n",
              "      <td>Graduate</td>\n",
              "      <td>No</td>\n",
              "      <td>3076</td>\n",
              "      <td>1500</td>\n",
              "      <td>126.0</td>\n",
              "      <td>360.0</td>\n",
              "      <td>1.0</td>\n",
              "      <td>Urban</td>\n",
              "    </tr>\n",
              "    <tr>\n",
              "      <th>2</th>\n",
              "      <td>LP001031</td>\n",
              "      <td>Male</td>\n",
              "      <td>Yes</td>\n",
              "      <td>2</td>\n",
              "      <td>Graduate</td>\n",
              "      <td>No</td>\n",
              "      <td>5000</td>\n",
              "      <td>1800</td>\n",
              "      <td>208.0</td>\n",
              "      <td>360.0</td>\n",
              "      <td>1.0</td>\n",
              "      <td>Urban</td>\n",
              "    </tr>\n",
              "    <tr>\n",
              "      <th>3</th>\n",
              "      <td>LP001035</td>\n",
              "      <td>Male</td>\n",
              "      <td>Yes</td>\n",
              "      <td>2</td>\n",
              "      <td>Graduate</td>\n",
              "      <td>No</td>\n",
              "      <td>2340</td>\n",
              "      <td>2546</td>\n",
              "      <td>100.0</td>\n",
              "      <td>360.0</td>\n",
              "      <td>NaN</td>\n",
              "      <td>Urban</td>\n",
              "    </tr>\n",
              "    <tr>\n",
              "      <th>4</th>\n",
              "      <td>LP001051</td>\n",
              "      <td>Male</td>\n",
              "      <td>No</td>\n",
              "      <td>0</td>\n",
              "      <td>Not Graduate</td>\n",
              "      <td>No</td>\n",
              "      <td>3276</td>\n",
              "      <td>0</td>\n",
              "      <td>78.0</td>\n",
              "      <td>360.0</td>\n",
              "      <td>1.0</td>\n",
              "      <td>Urban</td>\n",
              "    </tr>\n",
              "    <tr>\n",
              "      <th>5</th>\n",
              "      <td>LP001054</td>\n",
              "      <td>Male</td>\n",
              "      <td>Yes</td>\n",
              "      <td>0</td>\n",
              "      <td>Not Graduate</td>\n",
              "      <td>Yes</td>\n",
              "      <td>2165</td>\n",
              "      <td>3422</td>\n",
              "      <td>152.0</td>\n",
              "      <td>360.0</td>\n",
              "      <td>1.0</td>\n",
              "      <td>Urban</td>\n",
              "    </tr>\n",
              "    <tr>\n",
              "      <th>6</th>\n",
              "      <td>LP001055</td>\n",
              "      <td>Female</td>\n",
              "      <td>No</td>\n",
              "      <td>1</td>\n",
              "      <td>Not Graduate</td>\n",
              "      <td>No</td>\n",
              "      <td>2226</td>\n",
              "      <td>0</td>\n",
              "      <td>59.0</td>\n",
              "      <td>360.0</td>\n",
              "      <td>1.0</td>\n",
              "      <td>Semiurban</td>\n",
              "    </tr>\n",
              "    <tr>\n",
              "      <th>7</th>\n",
              "      <td>LP001056</td>\n",
              "      <td>Male</td>\n",
              "      <td>Yes</td>\n",
              "      <td>2</td>\n",
              "      <td>Not Graduate</td>\n",
              "      <td>No</td>\n",
              "      <td>3881</td>\n",
              "      <td>0</td>\n",
              "      <td>147.0</td>\n",
              "      <td>360.0</td>\n",
              "      <td>0.0</td>\n",
              "      <td>Rural</td>\n",
              "    </tr>\n",
              "    <tr>\n",
              "      <th>8</th>\n",
              "      <td>LP001059</td>\n",
              "      <td>Male</td>\n",
              "      <td>Yes</td>\n",
              "      <td>2</td>\n",
              "      <td>Graduate</td>\n",
              "      <td>NaN</td>\n",
              "      <td>13633</td>\n",
              "      <td>0</td>\n",
              "      <td>280.0</td>\n",
              "      <td>240.0</td>\n",
              "      <td>1.0</td>\n",
              "      <td>Urban</td>\n",
              "    </tr>\n",
              "    <tr>\n",
              "      <th>9</th>\n",
              "      <td>LP001067</td>\n",
              "      <td>Male</td>\n",
              "      <td>No</td>\n",
              "      <td>0</td>\n",
              "      <td>Not Graduate</td>\n",
              "      <td>No</td>\n",
              "      <td>2400</td>\n",
              "      <td>2400</td>\n",
              "      <td>123.0</td>\n",
              "      <td>360.0</td>\n",
              "      <td>1.0</td>\n",
              "      <td>Semiurban</td>\n",
              "    </tr>\n",
              "  </tbody>\n",
              "</table>\n",
              "</div>"
            ],
            "text/plain": [
              "    Loan_ID  Gender Married  ... Loan_Amount_Term Credit_History Property_Area\n",
              "0  LP001015    Male     Yes  ...            360.0            1.0         Urban\n",
              "1  LP001022    Male     Yes  ...            360.0            1.0         Urban\n",
              "2  LP001031    Male     Yes  ...            360.0            1.0         Urban\n",
              "3  LP001035    Male     Yes  ...            360.0            NaN         Urban\n",
              "4  LP001051    Male      No  ...            360.0            1.0         Urban\n",
              "5  LP001054    Male     Yes  ...            360.0            1.0         Urban\n",
              "6  LP001055  Female      No  ...            360.0            1.0     Semiurban\n",
              "7  LP001056    Male     Yes  ...            360.0            0.0         Rural\n",
              "8  LP001059    Male     Yes  ...            240.0            1.0         Urban\n",
              "9  LP001067    Male      No  ...            360.0            1.0     Semiurban\n",
              "\n",
              "[10 rows x 12 columns]"
            ]
          },
          "metadata": {
            "tags": []
          },
          "execution_count": 59
        }
      ]
    },
    {
      "cell_type": "code",
      "metadata": {
        "colab": {
          "base_uri": "https://localhost:8080/"
        },
        "id": "1Xn0ZHXmiU6N",
        "outputId": "818cade9-d02a-408e-f322-64d47e2287b8"
      },
      "source": [
        "#show shape for each datasets\r\n",
        "trained_data.shape , tested_data.shape"
      ],
      "execution_count": 60,
      "outputs": [
        {
          "output_type": "execute_result",
          "data": {
            "text/plain": [
              "((614, 13), (367, 12))"
            ]
          },
          "metadata": {
            "tags": []
          },
          "execution_count": 60
        }
      ]
    },
    {
      "cell_type": "code",
      "metadata": {
        "colab": {
          "base_uri": "https://localhost:8080/"
        },
        "id": "ciO-k5qRiua8",
        "outputId": "46d4fc19-0e08-430f-a98d-a2e89b6eb0e1"
      },
      "source": [
        "#ดูจำนวนข้อมูลและตัวที่มีค่า NaN ใน train data\r\n",
        "trained_data.info()"
      ],
      "execution_count": 61,
      "outputs": [
        {
          "output_type": "stream",
          "text": [
            "<class 'pandas.core.frame.DataFrame'>\n",
            "RangeIndex: 614 entries, 0 to 613\n",
            "Data columns (total 13 columns):\n",
            " #   Column             Non-Null Count  Dtype  \n",
            "---  ------             --------------  -----  \n",
            " 0   Loan_ID            614 non-null    object \n",
            " 1   Gender             601 non-null    object \n",
            " 2   Married            611 non-null    object \n",
            " 3   Dependents         599 non-null    object \n",
            " 4   Education          614 non-null    object \n",
            " 5   Self_Employed      582 non-null    object \n",
            " 6   ApplicantIncome    614 non-null    int64  \n",
            " 7   CoapplicantIncome  614 non-null    float64\n",
            " 8   LoanAmount         592 non-null    float64\n",
            " 9   Loan_Amount_Term   600 non-null    float64\n",
            " 10  Credit_History     564 non-null    float64\n",
            " 11  Property_Area      614 non-null    object \n",
            " 12  Loan_Status        614 non-null    object \n",
            "dtypes: float64(4), int64(1), object(8)\n",
            "memory usage: 62.5+ KB\n"
          ],
          "name": "stdout"
        }
      ]
    },
    {
      "cell_type": "markdown",
      "metadata": {
        "id": "Y_HSoZsajszp"
      },
      "source": [
        "# Exploratory Data Analysis (EDA)\r\n",
        "\r\n",
        "\r\n",
        "\r\n",
        "\r\n"
      ]
    },
    {
      "cell_type": "code",
      "metadata": {
        "colab": {
          "base_uri": "https://localhost:8080/"
        },
        "id": "6Pjksj9tjw2W",
        "outputId": "deac742b-a282-4d23-a1a7-96d50287f4f0"
      },
      "source": [
        "# นับจำนวน Loan_Status column \r\n",
        "\r\n",
        "trained_data['Loan_Status'].value_counts()"
      ],
      "execution_count": 62,
      "outputs": [
        {
          "output_type": "execute_result",
          "data": {
            "text/plain": [
              "Y    422\n",
              "N    192\n",
              "Name: Loan_Status, dtype: int64"
            ]
          },
          "metadata": {
            "tags": []
          },
          "execution_count": 62
        }
      ]
    },
    {
      "cell_type": "code",
      "metadata": {
        "colab": {
          "base_uri": "https://localhost:8080/",
          "height": 280
        },
        "id": "E2m1bd30jw6J",
        "outputId": "ec0b064e-26f2-4edb-b51b-9b6093b8b50a"
      },
      "source": [
        "#Count AND Plot Loan_Status's column value\r\n",
        "#จะพบว่า422คนจะได้รับการอนุมัติ\r\n",
        "trained_data['Loan_Status'].value_counts().plot.bar()"
      ],
      "execution_count": 63,
      "outputs": [
        {
          "output_type": "execute_result",
          "data": {
            "text/plain": [
              "<matplotlib.axes._subplots.AxesSubplot at 0x7fdd85a4e198>"
            ]
          },
          "metadata": {
            "tags": []
          },
          "execution_count": 63
        },
        {
          "output_type": "display_data",
          "data": {
            "image/png": "[encoded data removed]",
            "text/plain": [
              "<Figure size 432x288 with 1 Axes>"
            ]
          },
          "metadata": {
            "tags": [],
            "needs_background": "light"
          }
        }
      ]
    },
    {
      "cell_type": "markdown",
      "metadata": {
        "id": "mTtepVSSnlq7"
      },
      "source": [
        "## พิจารณาตัวแปรอิสระ ประเภทCategorical"
      ]
    },
    {
      "cell_type": "code",
      "metadata": {
        "colab": {
          "base_uri": "https://localhost:8080/",
          "height": 0
        },
        "id": "irvAWsCdny_y",
        "outputId": "46299630-4c8a-41d6-c5a2-6ceff7063d4f"
      },
      "source": [
        "trained_data[\"Gender\"].value_counts().plot.bar()\r\n",
        "plt.show()\r\n",
        "#จะพบว่าส่วนใหญ่ที่สมัครจะเป็นผู้ชาย"
      ],
      "execution_count": 64,
      "outputs": [
        {
          "output_type": "display_data",
          "data": {
            "image/png": "[encoded data removed]",
            "text/plain": [
              "<Figure size 432x288 with 1 Axes>"
            ]
          },
          "metadata": {
            "tags": [],
            "needs_background": "light"
          }
        }
      ]
    },
    {
      "cell_type": "code",
      "metadata": {
        "colab": {
          "base_uri": "https://localhost:8080/",
          "height": 0
        },
        "id": "4B7l_UBP0M_2",
        "outputId": "0464c8e6-50b8-405b-be79-00825ee86e51"
      },
      "source": [
        "trained_data[\"Married\"].value_counts().plot.bar()\r\n",
        "plt.show()\r\n",
        "#จะพบว่าส่วนใหญ่ที่สมัครจะเป็นผู้ที่แต่งงานแล้ว"
      ],
      "execution_count": 65,
      "outputs": [
        {
          "output_type": "display_data",
          "data": {
            "image/png": "[encoded data removed]",
            "text/plain": [
              "<Figure size 432x288 with 1 Axes>"
            ]
          },
          "metadata": {
            "tags": [],
            "needs_background": "light"
          }
        }
      ]
    },
    {
      "cell_type": "code",
      "metadata": {
        "colab": {
          "base_uri": "https://localhost:8080/",
          "height": 0
        },
        "id": "N9RzQ7OZ0NEA",
        "outputId": "31e358ef-8e1a-4d1e-b32d-d2ecdd6335de"
      },
      "source": [
        "trained_data[\"Self_Employed\"].value_counts().plot.bar()\r\n",
        "plt.show()\r\n",
        "#จะพบว่าส่วนน้อยจะเป็นพวก self_employed"
      ],
      "execution_count": 66,
      "outputs": [
        {
          "output_type": "display_data",
          "data": {
            "image/png": "[encoded data removed]",
            "text/plain": [
              "<Figure size 432x288 with 1 Axes>"
            ]
          },
          "metadata": {
            "tags": [],
            "needs_background": "light"
          }
        }
      ]
    },
    {
      "cell_type": "code",
      "metadata": {
        "colab": {
          "base_uri": "https://localhost:8080/",
          "height": 0
        },
        "id": "9A-AXMgZ0NG9",
        "outputId": "e5c9ebd5-7526-47e4-8c49-68b7687bc8e2"
      },
      "source": [
        "trained_data['Credit_History'].value_counts().plot.bar()\r\n",
        "plt.show()\r\n",
        "#จะพบว่าส่วนใหญ่ที่สมัครจะเป็นผู้ที่มีเครดิต"
      ],
      "execution_count": 67,
      "outputs": [
        {
          "output_type": "display_data",
          "data": {
            "image/png": "[encoded data removed]",
            "text/plain": [
              "<Figure size 432x288 with 1 Axes>"
            ]
          },
          "metadata": {
            "tags": [],
            "needs_background": "light"
          }
        }
      ]
    },
    {
      "cell_type": "markdown",
      "metadata": {
        "id": "vFUpa8L31_6Y"
      },
      "source": [
        "## พิจารณาตัวแปรอิสระ ประเภทOrdinal"
      ]
    },
    {
      "cell_type": "code",
      "metadata": {
        "colab": {
          "base_uri": "https://localhost:8080/",
          "height": 0
        },
        "id": "gU1ljz_M1ikY",
        "outputId": "38d1d4f1-1042-4c9e-d947-7732f262ca66"
      },
      "source": [
        "trained_data['Dependents'].value_counts().plot.bar()\r\n",
        "plt.show()\r\n",
        "#ผู้สมัคร ไม่มีdependents มากกว่าครึ่ง"
      ],
      "execution_count": 68,
      "outputs": [
        {
          "output_type": "display_data",
          "data": {
            "image/png": "[encoded data removed]",
            "text/plain": [
              "<Figure size 432x288 with 1 Axes>"
            ]
          },
          "metadata": {
            "tags": [],
            "needs_background": "light"
          }
        }
      ]
    },
    {
      "cell_type": "code",
      "metadata": {
        "colab": {
          "base_uri": "https://localhost:8080/",
          "height": 0
        },
        "id": "wRYi6sEl3FjT",
        "outputId": "71a72a96-9e61-4dd9-8eb9-777f71bcbee5"
      },
      "source": [
        "trained_data['Education'].value_counts().plot.bar()\r\n",
        "plt.show()\r\n",
        "#ผู้สมัครส่วนใหญ่จบการศึกษา"
      ],
      "execution_count": 69,
      "outputs": [
        {
          "output_type": "display_data",
          "data": {
            "image/png": "[encoded data removed]",
            "text/plain": [
              "<Figure size 432x288 with 1 Axes>"
            ]
          },
          "metadata": {
            "tags": [],
            "needs_background": "light"
          }
        }
      ]
    },
    {
      "cell_type": "code",
      "metadata": {
        "colab": {
          "base_uri": "https://localhost:8080/",
          "height": 0
        },
        "id": "kr-Hj8N73FpA",
        "outputId": "a508eae4-33ba-4131-843c-667e22c10031"
      },
      "source": [
        "trained_data['Property_Area'].value_counts().plot.bar()\r\n",
        "plt.show()\r\n",
        "#ผู้สมัครส่วนใหญ่มาจาก Semiurban"
      ],
      "execution_count": 70,
      "outputs": [
        {
          "output_type": "display_data",
          "data": {
            "image/png": "[encoded data removed]",
            "text/plain": [
              "<Figure size 432x288 with 1 Axes>"
            ]
          },
          "metadata": {
            "tags": [],
            "needs_background": "light"
          }
        }
      ]
    },
    {
      "cell_type": "markdown",
      "metadata": {
        "id": "IapF7oKu30Hs"
      },
      "source": [
        "## พิจารณาตัวแปรอิสระ ประเภทNumeric"
      ]
    },
    {
      "cell_type": "code",
      "metadata": {
        "colab": {
          "base_uri": "https://localhost:8080/",
          "height": 0
        },
        "id": "X83dNT_C3qo4",
        "outputId": "d4a36692-9fcc-4183-cf4c-c37e8fe79ab1"
      },
      "source": [
        "sns.distplot(trained_data['ApplicantIncome'])\r\n",
        "plt.show()\r\n",
        "#ApplicantIncome is not normally distributed"
      ],
      "execution_count": 71,
      "outputs": [
        {
          "output_type": "stream",
          "text": [
            "/usr/local/lib/python3.6/dist-packages/seaborn/distributions.py:2551: FutureWarning: `distplot` is a deprecated function and will be removed in a future version. Please adapt your code to use either `displot` (a figure-level function with similar flexibility) or `histplot` (an axes-level function for histograms).\n",
            "  warnings.warn(msg, FutureWarning)\n"
          ],
          "name": "stderr"
        },
        {
          "output_type": "display_data",
          "data": {
            "image/png": "[encoded data removed]",
            "text/plain": [
              "<Figure size 432x288 with 1 Axes>"
            ]
          },
          "metadata": {
            "tags": [],
            "needs_background": "light"
          }
        }
      ]
    },
    {
      "cell_type": "code",
      "metadata": {
        "colab": {
          "base_uri": "https://localhost:8080/",
          "height": 0
        },
        "id": "PlcRKWlN3yY_",
        "outputId": "6a2ac0c0-b237-4a51-94b7-e869b5f1803d"
      },
      "source": [
        "sns.distplot(trained_data['CoapplicantIncome'])\r\n",
        "plt.show()\r\n",
        "#CoapplicantIncome is not normally distributed"
      ],
      "execution_count": 72,
      "outputs": [
        {
          "output_type": "stream",
          "text": [
            "/usr/local/lib/python3.6/dist-packages/seaborn/distributions.py:2551: FutureWarning: `distplot` is a deprecated function and will be removed in a future version. Please adapt your code to use either `displot` (a figure-level function with similar flexibility) or `histplot` (an axes-level function for histograms).\n",
            "  warnings.warn(msg, FutureWarning)\n"
          ],
          "name": "stderr"
        },
        {
          "output_type": "display_data",
          "data": {
            "image/png": "[encoded data removed]",
            "text/plain": [
              "<Figure size 432x288 with 1 Axes>"
            ]
          },
          "metadata": {
            "tags": [],
            "needs_background": "light"
          }
        }
      ]
    },
    {
      "cell_type": "code",
      "metadata": {
        "colab": {
          "base_uri": "https://localhost:8080/"
        },
        "id": "XWMm5SMZTv1o",
        "outputId": "a3d62f05-b06b-47c1-d393-74c0bcd72b4e"
      },
      "source": [
        "trained_data['Loan_Amount_Term'].value_counts()"
      ],
      "execution_count": 73,
      "outputs": [
        {
          "output_type": "execute_result",
          "data": {
            "text/plain": [
              "360.0    512\n",
              "180.0     44\n",
              "480.0     15\n",
              "300.0     13\n",
              "84.0       4\n",
              "240.0      4\n",
              "120.0      3\n",
              "36.0       2\n",
              "60.0       2\n",
              "12.0       1\n",
              "Name: Loan_Amount_Term, dtype: int64"
            ]
          },
          "metadata": {
            "tags": []
          },
          "execution_count": 73
        }
      ]
    },
    {
      "cell_type": "code",
      "metadata": {
        "id": "RaRwn0-ZTRwN",
        "colab": {
          "base_uri": "https://localhost:8080/",
          "height": 0
        },
        "outputId": "9517613e-c39c-4e65-cb35-c5bff92f55e3"
      },
      "source": [
        "sns.distplot(trained_data['LoanAmount'])\r\n",
        "plt.show()\r\n",
        "#LoanAmount  มีค่า outliers ค่อนข้างมาก"
      ],
      "execution_count": 74,
      "outputs": [
        {
          "output_type": "stream",
          "text": [
            "/usr/local/lib/python3.6/dist-packages/seaborn/distributions.py:2551: FutureWarning: `distplot` is a deprecated function and will be removed in a future version. Please adapt your code to use either `displot` (a figure-level function with similar flexibility) or `histplot` (an axes-level function for histograms).\n",
            "  warnings.warn(msg, FutureWarning)\n"
          ],
          "name": "stderr"
        },
        {
          "output_type": "display_data",
          "data": {
            "image/png": "[encoded data removed]",
            "text/plain": [
              "<Figure size 432x288 with 1 Axes>"
            ]
          },
          "metadata": {
            "tags": [],
            "needs_background": "light"
          }
        }
      ]
    },
    {
      "cell_type": "markdown",
      "metadata": {
        "id": "nGc7Fw6BAR97"
      },
      "source": [
        "##Bivariate (Relation of Independent Variable vs Target Variable)\r\n",
        "\r\n"
      ]
    },
    {
      "cell_type": "code",
      "metadata": {
        "colab": {
          "base_uri": "https://localhost:8080/",
          "height": 0
        },
        "id": "38UQas-rARe6",
        "outputId": "9922e1b3-ac90-4cfc-8c26-7d6f635b662f"
      },
      "source": [
        "Gen=pd.crosstab(trained_data[\"Gender\"],trained_data[\"Loan_Status\"])\r\n",
        "Gen.div(Gen.sum(1).astype(float), axis=0).plot(kind=\"barh\")\r\n",
        "plt.show()\r\n",
        "#สัดส่วนการอนุมัติและการไม่อนุมัติมีค่าใกล้เคียงกันมาก เมื่อเทียบกับเพศ"
      ],
      "execution_count": 75,
      "outputs": [
        {
          "output_type": "display_data",
          "data": {
            "image/png": "[encoded data removed]",
            "text/plain": [
              "<Figure size 432x288 with 1 Axes>"
            ]
          },
          "metadata": {
            "tags": [],
            "needs_background": "light"
          }
        }
      ]
    },
    {
      "cell_type": "code",
      "metadata": {
        "colab": {
          "base_uri": "https://localhost:8080/",
          "height": 0
        },
        "id": "lgTJ0VhBIHU8",
        "outputId": "21c232c4-6371-4bd9-bbb0-084b630fa43c"
      },
      "source": [
        "Married=pd.crosstab(trained_data[\"Married\"],trained_data['Loan_Status'])\r\n",
        "Married.div(Married.sum(1).astype(float), axis=0).plot(kind='barh')\r\n",
        "plt.show()\r\n",
        "#สัดส่วนการอนุมัติและการไม่อนุมัติมีค่าต่างกันเล็กน้อย เมื่อเทียบกับผู้ที่แต่งงานแล้วกับยังไม่แต่งงาน"
      ],
      "execution_count": 76,
      "outputs": [
        {
          "output_type": "display_data",
          "data": {
            "image/png": "[encoded data removed]",
            "text/plain": [
              "<Figure size 432x288 with 1 Axes>"
            ]
          },
          "metadata": {
            "tags": [],
            "needs_background": "light"
          }
        }
      ]
    },
    {
      "cell_type": "code",
      "metadata": {
        "id": "6mgSXQX5IjmM",
        "colab": {
          "base_uri": "https://localhost:8080/",
          "height": 0
        },
        "outputId": "dfe45127-079a-4b18-ae65-f3b7f7162f2a"
      },
      "source": [
        "Dependents=pd.crosstab(trained_data['Dependents'],trained_data['Loan_Status'])\r\n",
        "Dependents.div(Dependents.sum(1).astype(float), axis=0).plot(kind='barh')\r\n",
        "plt.show()\r\n",
        "#สัดส่วนการอนุมัติและการไม่อนุมัติมีค่าต่างกันแบบหลากลาย เมื่อเทียบกับเงินได้ในส่วนของผู้อยู่ในอุปการะ"
      ],
      "execution_count": 77,
      "outputs": [
        {
          "output_type": "display_data",
          "data": {
            "image/png": "[encoded data removed]",
            "text/plain": [
              "<Figure size 432x288 with 1 Axes>"
            ]
          },
          "metadata": {
            "tags": [],
            "needs_background": "light"
          }
        }
      ]
    },
    {
      "cell_type": "code",
      "metadata": {
        "id": "16th1YbCIjph",
        "colab": {
          "base_uri": "https://localhost:8080/",
          "height": 0
        },
        "outputId": "5c63d6be-33e3-4bb4-9b0f-07b3211b08e7"
      },
      "source": [
        "Self_Employ=pd.crosstab(trained_data['Self_Employed'],trained_data['Loan_Status'])\r\n",
        "Self_Employ.div(Self_Employ.sum(1).astype(float), axis=0).plot(kind='barh')\r\n",
        "plt.show()\r\n",
        "#สัดส่วนการอนุมัติและการไม่อนุมัติมีค่าใกล้เคียงกันมาก เมื่อเทียบกับรายได้แบบ Self Employed"
      ],
      "execution_count": 78,
      "outputs": [
        {
          "output_type": "display_data",
          "data": {
            "image/png": "[encoded data removed]",
            "text/plain": [
              "<Figure size 432x288 with 1 Axes>"
            ]
          },
          "metadata": {
            "tags": [],
            "needs_background": "light"
          }
        }
      ]
    },
    {
      "cell_type": "code",
      "metadata": {
        "id": "JWvdxig-Ijt1",
        "colab": {
          "base_uri": "https://localhost:8080/",
          "height": 0
        },
        "outputId": "79d57939-c6f6-4c79-ad3c-c52f1d8a987b"
      },
      "source": [
        "Edu=pd.crosstab(trained_data['Education'],trained_data['Loan_Status'])\r\n",
        "Edu.div(Edu.sum(1).astype(float), axis=0).plot(kind='barh')\r\n",
        "plt.show()\r\n",
        "#สัดส่วนการอนุมัติและการไม่อนุมัติมีค่าต่างกันเล็กน้อย เมื่อเทียบกับการสำเร็จการศึกษา"
      ],
      "execution_count": 79,
      "outputs": [
        {
          "output_type": "display_data",
          "data": {
            "image/png": "[encoded data removed]",
            "text/plain": [
              "<Figure size 432x288 with 1 Axes>"
            ]
          },
          "metadata": {
            "tags": [],
            "needs_background": "light"
          }
        }
      ]
    },
    {
      "cell_type": "code",
      "metadata": {
        "id": "wObfhGIeKd5m",
        "colab": {
          "base_uri": "https://localhost:8080/",
          "height": 0
        },
        "outputId": "aa501ba4-a554-4fac-caae-db24c3f98788"
      },
      "source": [
        "CreditHis=pd.crosstab(trained_data[\"Credit_History\"],trained_data['Loan_Status'])\r\n",
        "CreditHis.div(CreditHis.sum(1).astype(float), axis=0).plot(kind='barh')\r\n",
        "plt.show()\r\n",
        "#สัดส่วนการอนุมัติและการไม่อนุมัติมีค่าต่างกันอย่างมาก เมื่อเทียบกับประวัติการใช้งาน"
      ],
      "execution_count": 80,
      "outputs": [
        {
          "output_type": "display_data",
          "data": {
            "image/png": "[encoded data removed]",
            "text/plain": [
              "<Figure size 432x288 with 1 Axes>"
            ]
          },
          "metadata": {
            "tags": [],
            "needs_background": "light"
          }
        }
      ]
    },
    {
      "cell_type": "code",
      "metadata": {
        "id": "7K4UywiKKTgE",
        "colab": {
          "base_uri": "https://localhost:8080/",
          "height": 0
        },
        "outputId": "6116a223-15c3-4454-e2d1-02497637725c"
      },
      "source": [
        "PropertyArea=pd.crosstab(trained_data[\"Property_Area\"],trained_data['Loan_Status'])\r\n",
        "PropertyArea.div(PropertyArea.sum(1).astype(float), axis=0).plot(kind='barh')\r\n",
        "plt.show()\r\n",
        "#สัดส่วนการอนุมัติและการไม่อนุมัติมีค่าต่างกันอย่างมาก เมื่อเทียบกับพื้นที่ที่อาศัย"
      ],
      "execution_count": 81,
      "outputs": [
        {
          "output_type": "display_data",
          "data": {
            "image/png": "[encoded data removed]",
            "text/plain": [
              "<Figure size 432x288 with 1 Axes>"
            ]
          },
          "metadata": {
            "tags": [],
            "needs_background": "light"
          }
        }
      ]
    },
    {
      "cell_type": "markdown",
      "metadata": {
        "id": "SQccsYd0LkhI"
      },
      "source": [
        "## Numerical (Independent Variable vs Target Variable)"
      ]
    },
    {
      "cell_type": "code",
      "metadata": {
        "id": "Av7yMk2bk1sO",
        "colab": {
          "base_uri": "https://localhost:8080/",
          "height": 0
        },
        "outputId": "39465a3f-0761-4875-b7d4-1459c6606995"
      },
      "source": [
        "#grouped data by Loan_Status and ApplicantIncome\r\n",
        "#เพื่อเปรียบเทียบ พบว่ารายได้ของผู้ที่ได้การอนุมัติกับรายได้ของผู้ที่ไม่ได้รับการอนุมัติ มีค่าไม่ต่างกัน\r\n",
        "\r\n",
        "trained_data.groupby(\"Loan_Status\")[\"ApplicantIncome\"].mean().plot(kind=\"barh\")"
      ],
      "execution_count": 82,
      "outputs": [
        {
          "output_type": "execute_result",
          "data": {
            "text/plain": [
              "<matplotlib.axes._subplots.AxesSubplot at 0x7fdd79ae7128>"
            ]
          },
          "metadata": {
            "tags": []
          },
          "execution_count": 82
        },
        {
          "output_type": "display_data",
          "data": {
            "image/png": "[encoded data removed]",
            "text/plain": [
              "<Figure size 432x288 with 1 Axes>"
            ]
          },
          "metadata": {
            "tags": [],
            "needs_background": "light"
          }
        }
      ]
    },
    {
      "cell_type": "markdown",
      "metadata": {
        "id": "xzAWJAMPLa-t"
      },
      "source": [
        "# Impute Missing Value"
      ]
    },
    {
      "cell_type": "markdown",
      "metadata": {
        "id": "ccQUdJxIeONm"
      },
      "source": [
        "## Impute Missing Value for train data\r\n"
      ]
    },
    {
      "cell_type": "code",
      "metadata": {
        "id": "LCPoFQg7LNOe",
        "colab": {
          "base_uri": "https://localhost:8080/",
          "height": 226
        },
        "outputId": "2d270a1b-b9c7-4cab-fc9d-635bb31f36a1"
      },
      "source": [
        "#เช็คค่าที่ Null\r\n",
        "trained_data.isnull().head(5)"
      ],
      "execution_count": 83,
      "outputs": [
        {
          "output_type": "execute_result",
          "data": {
            "text/html": [
              "<div>\n",
              "<style scoped>\n",
              "    .dataframe tbody tr th:only-of-type {\n",
              "        vertical-align: middle;\n",
              "    }\n",
              "\n",
              "    .dataframe tbody tr th {\n",
              "        vertical-align: top;\n",
              "    }\n",
              "\n",
              "    .dataframe thead th {\n",
              "        text-align: right;\n",
              "    }\n",
              "</style>\n",
              "<table border=\"1\" class=\"dataframe\">\n",
              "  <thead>\n",
              "    <tr style=\"text-align: right;\">\n",
              "      <th></th>\n",
              "      <th>Loan_ID</th>\n",
              "      <th>Gender</th>\n",
              "      <th>Married</th>\n",
              "      <th>Dependents</th>\n",
              "      <th>Education</th>\n",
              "      <th>Self_Employed</th>\n",
              "      <th>ApplicantIncome</th>\n",
              "      <th>CoapplicantIncome</th>\n",
              "      <th>LoanAmount</th>\n",
              "      <th>Loan_Amount_Term</th>\n",
              "      <th>Credit_History</th>\n",
              "      <th>Property_Area</th>\n",
              "      <th>Loan_Status</th>\n",
              "    </tr>\n",
              "  </thead>\n",
              "  <tbody>\n",
              "    <tr>\n",
              "      <th>0</th>\n",
              "      <td>False</td>\n",
              "      <td>False</td>\n",
              "      <td>False</td>\n",
              "      <td>False</td>\n",
              "      <td>False</td>\n",
              "      <td>False</td>\n",
              "      <td>False</td>\n",
              "      <td>False</td>\n",
              "      <td>True</td>\n",
              "      <td>False</td>\n",
              "      <td>False</td>\n",
              "      <td>False</td>\n",
              "      <td>False</td>\n",
              "    </tr>\n",
              "    <tr>\n",
              "      <th>1</th>\n",
              "      <td>False</td>\n",
              "      <td>False</td>\n",
              "      <td>False</td>\n",
              "      <td>False</td>\n",
              "      <td>False</td>\n",
              "      <td>False</td>\n",
              "      <td>False</td>\n",
              "      <td>False</td>\n",
              "      <td>False</td>\n",
              "      <td>False</td>\n",
              "      <td>False</td>\n",
              "      <td>False</td>\n",
              "      <td>False</td>\n",
              "    </tr>\n",
              "    <tr>\n",
              "      <th>2</th>\n",
              "      <td>False</td>\n",
              "      <td>False</td>\n",
              "      <td>False</td>\n",
              "      <td>False</td>\n",
              "      <td>False</td>\n",
              "      <td>False</td>\n",
              "      <td>False</td>\n",
              "      <td>False</td>\n",
              "      <td>False</td>\n",
              "      <td>False</td>\n",
              "      <td>False</td>\n",
              "      <td>False</td>\n",
              "      <td>False</td>\n",
              "    </tr>\n",
              "    <tr>\n",
              "      <th>3</th>\n",
              "      <td>False</td>\n",
              "      <td>False</td>\n",
              "      <td>False</td>\n",
              "      <td>False</td>\n",
              "      <td>False</td>\n",
              "      <td>False</td>\n",
              "      <td>False</td>\n",
              "      <td>False</td>\n",
              "      <td>False</td>\n",
              "      <td>False</td>\n",
              "      <td>False</td>\n",
              "      <td>False</td>\n",
              "      <td>False</td>\n",
              "    </tr>\n",
              "    <tr>\n",
              "      <th>4</th>\n",
              "      <td>False</td>\n",
              "      <td>False</td>\n",
              "      <td>False</td>\n",
              "      <td>False</td>\n",
              "      <td>False</td>\n",
              "      <td>False</td>\n",
              "      <td>False</td>\n",
              "      <td>False</td>\n",
              "      <td>False</td>\n",
              "      <td>False</td>\n",
              "      <td>False</td>\n",
              "      <td>False</td>\n",
              "      <td>False</td>\n",
              "    </tr>\n",
              "  </tbody>\n",
              "</table>\n",
              "</div>"
            ],
            "text/plain": [
              "   Loan_ID  Gender  Married  ...  Credit_History  Property_Area  Loan_Status\n",
              "0    False   False    False  ...           False          False        False\n",
              "1    False   False    False  ...           False          False        False\n",
              "2    False   False    False  ...           False          False        False\n",
              "3    False   False    False  ...           False          False        False\n",
              "4    False   False    False  ...           False          False        False\n",
              "\n",
              "[5 rows x 13 columns]"
            ]
          },
          "metadata": {
            "tags": []
          },
          "execution_count": 83
        }
      ]
    },
    {
      "cell_type": "code",
      "metadata": {
        "id": "pTYqYfJXL9hd",
        "colab": {
          "base_uri": "https://localhost:8080/"
        },
        "outputId": "c7b01c60-dc4b-4e57-c6b7-4bf9c2f7439c"
      },
      "source": [
        "#นับค่าที่ Null ทั้งหมดในแต่ละcolumn ของตัว trained_data\r\n",
        "trained_data.isnull().sum()"
      ],
      "execution_count": 84,
      "outputs": [
        {
          "output_type": "execute_result",
          "data": {
            "text/plain": [
              "Loan_ID               0\n",
              "Gender               13\n",
              "Married               3\n",
              "Dependents           15\n",
              "Education             0\n",
              "Self_Employed        32\n",
              "ApplicantIncome       0\n",
              "CoapplicantIncome     0\n",
              "LoanAmount           22\n",
              "Loan_Amount_Term     14\n",
              "Credit_History       50\n",
              "Property_Area         0\n",
              "Loan_Status           0\n",
              "dtype: int64"
            ]
          },
          "metadata": {
            "tags": []
          },
          "execution_count": 84
        }
      ]
    },
    {
      "cell_type": "code",
      "metadata": {
        "id": "_wu7J4oZMOmp"
      },
      "source": [
        "#ทำการแก้ missing value ของตัวแปรประเภท category ด้วย mode\r\n",
        "\r\n",
        "trained_data['Gender'].fillna(trained_data['Gender'].mode()[0], inplace=True)\r\n",
        "trained_data['Married'].fillna(trained_data['Married'].mode()[0], inplace=True)\r\n",
        "trained_data['Dependents'].fillna(trained_data['Dependents'].mode()[0], inplace=True)\r\n",
        "trained_data['Self_Employed'].fillna(trained_data['Self_Employed'].mode()[0], inplace=True)\r\n",
        "trained_data['Credit_History'].fillna(trained_data['Credit_History'].mode()[0], inplace=True)\r\n",
        "trained_data['Loan_Amount_Term'].fillna(trained_data['Loan_Amount_Term'].mode()[0], inplace=True)"
      ],
      "execution_count": 85,
      "outputs": []
    },
    {
      "cell_type": "code",
      "metadata": {
        "id": "XGMkCE1EN8HA",
        "colab": {
          "base_uri": "https://localhost:8080/"
        },
        "outputId": "b550a860-837b-46fa-cbca-4e84a5ae0623"
      },
      "source": [
        "#เช็คค่า Null อีกรอบพบว่า LoanAmount ยังNullอยู่ ซึ่งเราจะแทนด้วยค่า Median\r\n",
        "trained_data.isnull().sum()"
      ],
      "execution_count": 86,
      "outputs": [
        {
          "output_type": "execute_result",
          "data": {
            "text/plain": [
              "Loan_ID               0\n",
              "Gender                0\n",
              "Married               0\n",
              "Dependents            0\n",
              "Education             0\n",
              "Self_Employed         0\n",
              "ApplicantIncome       0\n",
              "CoapplicantIncome     0\n",
              "LoanAmount           22\n",
              "Loan_Amount_Term      0\n",
              "Credit_History        0\n",
              "Property_Area         0\n",
              "Loan_Status           0\n",
              "dtype: int64"
            ]
          },
          "metadata": {
            "tags": []
          },
          "execution_count": 86
        }
      ]
    },
    {
      "cell_type": "code",
      "metadata": {
        "id": "A9mDzNYrOG_P",
        "colab": {
          "base_uri": "https://localhost:8080/"
        },
        "outputId": "d4c78a29-95ee-4607-f2b9-bf9016e69493"
      },
      "source": [
        "#หาค่า median จาก LoanAmount\r\n",
        "trained_data['LoanAmount'].median()"
      ],
      "execution_count": 87,
      "outputs": [
        {
          "output_type": "execute_result",
          "data": {
            "text/plain": [
              "128.0"
            ]
          },
          "metadata": {
            "tags": []
          },
          "execution_count": 87
        }
      ]
    },
    {
      "cell_type": "code",
      "metadata": {
        "id": "h9uYPAAlOnk8"
      },
      "source": [
        "#ทำการแก้ missing value ของตัวแปรประเภท numeric ด้วย median\r\n",
        "trained_data['LoanAmount'].fillna(trained_data['LoanAmount'].median(), inplace=True)"
      ],
      "execution_count": 88,
      "outputs": []
    },
    {
      "cell_type": "code",
      "metadata": {
        "id": "1sMljwazOwrJ",
        "colab": {
          "base_uri": "https://localhost:8080/"
        },
        "outputId": "e0100f23-b359-496d-b3e2-dfdb506e9d3d"
      },
      "source": [
        "#check Null value  จะพบว่าไม่มีแล้วพร้อมต่อการสร้างmodel\r\n",
        "trained_data.isnull().sum()"
      ],
      "execution_count": 89,
      "outputs": [
        {
          "output_type": "execute_result",
          "data": {
            "text/plain": [
              "Loan_ID              0\n",
              "Gender               0\n",
              "Married              0\n",
              "Dependents           0\n",
              "Education            0\n",
              "Self_Employed        0\n",
              "ApplicantIncome      0\n",
              "CoapplicantIncome    0\n",
              "LoanAmount           0\n",
              "Loan_Amount_Term     0\n",
              "Credit_History       0\n",
              "Property_Area        0\n",
              "Loan_Status          0\n",
              "dtype: int64"
            ]
          },
          "metadata": {
            "tags": []
          },
          "execution_count": 89
        }
      ]
    },
    {
      "cell_type": "markdown",
      "metadata": {
        "id": "eE_65fmhe2sR"
      },
      "source": [
        "## Impute Missing Value for test data\r\n"
      ]
    },
    {
      "cell_type": "code",
      "metadata": {
        "id": "yGli2OqUe6Up",
        "colab": {
          "base_uri": "https://localhost:8080/",
          "height": 226
        },
        "outputId": "5efd1ec7-68fa-4cd9-b514-ec32f9e5022d"
      },
      "source": [
        "#เช็คค่าที่ Null\r\n",
        "tested_data.isnull().head(5)"
      ],
      "execution_count": 90,
      "outputs": [
        {
          "output_type": "execute_result",
          "data": {
            "text/html": [
              "<div>\n",
              "<style scoped>\n",
              "    .dataframe tbody tr th:only-of-type {\n",
              "        vertical-align: middle;\n",
              "    }\n",
              "\n",
              "    .dataframe tbody tr th {\n",
              "        vertical-align: top;\n",
              "    }\n",
              "\n",
              "    .dataframe thead th {\n",
              "        text-align: right;\n",
              "    }\n",
              "</style>\n",
              "<table border=\"1\" class=\"dataframe\">\n",
              "  <thead>\n",
              "    <tr style=\"text-align: right;\">\n",
              "      <th></th>\n",
              "      <th>Loan_ID</th>\n",
              "      <th>Gender</th>\n",
              "      <th>Married</th>\n",
              "      <th>Dependents</th>\n",
              "      <th>Education</th>\n",
              "      <th>Self_Employed</th>\n",
              "      <th>ApplicantIncome</th>\n",
              "      <th>CoapplicantIncome</th>\n",
              "      <th>LoanAmount</th>\n",
              "      <th>Loan_Amount_Term</th>\n",
              "      <th>Credit_History</th>\n",
              "      <th>Property_Area</th>\n",
              "    </tr>\n",
              "  </thead>\n",
              "  <tbody>\n",
              "    <tr>\n",
              "      <th>0</th>\n",
              "      <td>False</td>\n",
              "      <td>False</td>\n",
              "      <td>False</td>\n",
              "      <td>False</td>\n",
              "      <td>False</td>\n",
              "      <td>False</td>\n",
              "      <td>False</td>\n",
              "      <td>False</td>\n",
              "      <td>False</td>\n",
              "      <td>False</td>\n",
              "      <td>False</td>\n",
              "      <td>False</td>\n",
              "    </tr>\n",
              "    <tr>\n",
              "      <th>1</th>\n",
              "      <td>False</td>\n",
              "      <td>False</td>\n",
              "      <td>False</td>\n",
              "      <td>False</td>\n",
              "      <td>False</td>\n",
              "      <td>False</td>\n",
              "      <td>False</td>\n",
              "      <td>False</td>\n",
              "      <td>False</td>\n",
              "      <td>False</td>\n",
              "      <td>False</td>\n",
              "      <td>False</td>\n",
              "    </tr>\n",
              "    <tr>\n",
              "      <th>2</th>\n",
              "      <td>False</td>\n",
              "      <td>False</td>\n",
              "      <td>False</td>\n",
              "      <td>False</td>\n",
              "      <td>False</td>\n",
              "      <td>False</td>\n",
              "      <td>False</td>\n",
              "      <td>False</td>\n",
              "      <td>False</td>\n",
              "      <td>False</td>\n",
              "      <td>False</td>\n",
              "      <td>False</td>\n",
              "    </tr>\n",
              "    <tr>\n",
              "      <th>3</th>\n",
              "      <td>False</td>\n",
              "      <td>False</td>\n",
              "      <td>False</td>\n",
              "      <td>False</td>\n",
              "      <td>False</td>\n",
              "      <td>False</td>\n",
              "      <td>False</td>\n",
              "      <td>False</td>\n",
              "      <td>False</td>\n",
              "      <td>False</td>\n",
              "      <td>True</td>\n",
              "      <td>False</td>\n",
              "    </tr>\n",
              "    <tr>\n",
              "      <th>4</th>\n",
              "      <td>False</td>\n",
              "      <td>False</td>\n",
              "      <td>False</td>\n",
              "      <td>False</td>\n",
              "      <td>False</td>\n",
              "      <td>False</td>\n",
              "      <td>False</td>\n",
              "      <td>False</td>\n",
              "      <td>False</td>\n",
              "      <td>False</td>\n",
              "      <td>False</td>\n",
              "      <td>False</td>\n",
              "    </tr>\n",
              "  </tbody>\n",
              "</table>\n",
              "</div>"
            ],
            "text/plain": [
              "   Loan_ID  Gender  Married  ...  Loan_Amount_Term  Credit_History  Property_Area\n",
              "0    False   False    False  ...             False           False          False\n",
              "1    False   False    False  ...             False           False          False\n",
              "2    False   False    False  ...             False           False          False\n",
              "3    False   False    False  ...             False            True          False\n",
              "4    False   False    False  ...             False           False          False\n",
              "\n",
              "[5 rows x 12 columns]"
            ]
          },
          "metadata": {
            "tags": []
          },
          "execution_count": 90
        }
      ]
    },
    {
      "cell_type": "code",
      "metadata": {
        "id": "fIwgoqyle8ob",
        "colab": {
          "base_uri": "https://localhost:8080/"
        },
        "outputId": "29c016d3-834b-4327-b927-756e005e4f57"
      },
      "source": [
        "#นับค่าที่ Null ทั้งหมดในแต่ละcolumn ของตัว tested_data\r\n",
        "tested_data.isnull().sum()"
      ],
      "execution_count": 91,
      "outputs": [
        {
          "output_type": "execute_result",
          "data": {
            "text/plain": [
              "Loan_ID               0\n",
              "Gender               11\n",
              "Married               0\n",
              "Dependents           10\n",
              "Education             0\n",
              "Self_Employed        23\n",
              "ApplicantIncome       0\n",
              "CoapplicantIncome     0\n",
              "LoanAmount            5\n",
              "Loan_Amount_Term      6\n",
              "Credit_History       29\n",
              "Property_Area         0\n",
              "dtype: int64"
            ]
          },
          "metadata": {
            "tags": []
          },
          "execution_count": 91
        }
      ]
    },
    {
      "cell_type": "code",
      "metadata": {
        "id": "mHfr8Y28e9sN"
      },
      "source": [
        "#ทำการแก้ missing value ของตัวแปรประเภท category ด้วย mode\r\n",
        "\r\n",
        "tested_data['Gender'].fillna(tested_data['Gender'].mode()[0], inplace=True)\r\n",
        "tested_data['Married'].fillna(tested_data['Married'].mode()[0], inplace=True)\r\n",
        "tested_data['Dependents'].fillna(tested_data['Dependents'].mode()[0], inplace=True)\r\n",
        "tested_data['Self_Employed'].fillna(tested_data['Self_Employed'].mode()[0], inplace=True)\r\n",
        "tested_data['Credit_History'].fillna(tested_data['Credit_History'].mode()[0], inplace=True)\r\n",
        "tested_data['Loan_Amount_Term'].fillna(tested_data['Loan_Amount_Term'].mode()[0], inplace=True)"
      ],
      "execution_count": 92,
      "outputs": []
    },
    {
      "cell_type": "code",
      "metadata": {
        "id": "SzNqAn2ue_J8",
        "colab": {
          "base_uri": "https://localhost:8080/"
        },
        "outputId": "44d6a332-ce6b-4a4b-b134-814fc4c9ae87"
      },
      "source": [
        "#เช็คค่า Null อีกรอบพบว่า LoanAmount ยังNullอยู่ ซึ่งเราจะแทนด้วยค่า Median\r\n",
        "tested_data.isnull().sum()"
      ],
      "execution_count": 93,
      "outputs": [
        {
          "output_type": "execute_result",
          "data": {
            "text/plain": [
              "Loan_ID              0\n",
              "Gender               0\n",
              "Married              0\n",
              "Dependents           0\n",
              "Education            0\n",
              "Self_Employed        0\n",
              "ApplicantIncome      0\n",
              "CoapplicantIncome    0\n",
              "LoanAmount           5\n",
              "Loan_Amount_Term     0\n",
              "Credit_History       0\n",
              "Property_Area        0\n",
              "dtype: int64"
            ]
          },
          "metadata": {
            "tags": []
          },
          "execution_count": 93
        }
      ]
    },
    {
      "cell_type": "code",
      "metadata": {
        "id": "EvaDo75vfA4j",
        "colab": {
          "base_uri": "https://localhost:8080/"
        },
        "outputId": "27d1b455-16bb-4b5c-be54-fd1a6d4bf0a9"
      },
      "source": [
        "#หาค่า median จาก LoanAmount\r\n",
        "tested_data['LoanAmount'].median()"
      ],
      "execution_count": 94,
      "outputs": [
        {
          "output_type": "execute_result",
          "data": {
            "text/plain": [
              "125.0"
            ]
          },
          "metadata": {
            "tags": []
          },
          "execution_count": 94
        }
      ]
    },
    {
      "cell_type": "code",
      "metadata": {
        "id": "pjFpghbNfCXC"
      },
      "source": [
        "#ทำการแก้ missing value ของตัวแปรประเภท numeric ด้วย median\r\n",
        "tested_data['LoanAmount'].fillna(trained_data['LoanAmount'].median(), inplace=True)"
      ],
      "execution_count": 95,
      "outputs": []
    },
    {
      "cell_type": "code",
      "metadata": {
        "id": "QCERPeN2fEv-",
        "colab": {
          "base_uri": "https://localhost:8080/"
        },
        "outputId": "863f9e0a-6577-4f1d-a707-1f2c7bcdfe49"
      },
      "source": [
        "#Check Null value จะพบว่าไม่มีแล้วพร้อมต่อการสร้างmodel\r\n",
        "tested_data.isnull().sum()"
      ],
      "execution_count": 96,
      "outputs": [
        {
          "output_type": "execute_result",
          "data": {
            "text/plain": [
              "Loan_ID              0\n",
              "Gender               0\n",
              "Married              0\n",
              "Dependents           0\n",
              "Education            0\n",
              "Self_Employed        0\n",
              "ApplicantIncome      0\n",
              "CoapplicantIncome    0\n",
              "LoanAmount           0\n",
              "Loan_Amount_Term     0\n",
              "Credit_History       0\n",
              "Property_Area        0\n",
              "dtype: int64"
            ]
          },
          "metadata": {
            "tags": []
          },
          "execution_count": 96
        }
      ]
    },
    {
      "cell_type": "markdown",
      "metadata": {
        "id": "jRC8iAFNIFcl"
      },
      "source": [
        "# Model Building\r\n"
      ]
    },
    {
      "cell_type": "code",
      "metadata": {
        "id": "rC7lxIfsILv_"
      },
      "source": [
        "trained_data=trained_data.drop('Loan_ID',axis=1)\r\n",
        "tested_data=tested_data.drop('Loan_ID',axis=1)\r\n",
        "#ทำการdrop column Loan_ID ทิ้งเพราะเราไม่ได้ใช้ในการพิจารณา"
      ],
      "execution_count": 97,
      "outputs": []
    },
    {
      "cell_type": "code",
      "metadata": {
        "id": "MxXnK1THIb-W"
      },
      "source": [
        "X = trained_data.drop('Loan_Status',1)\r\n",
        "y = trained_data.Loan_Status"
      ],
      "execution_count": 98,
      "outputs": []
    },
    {
      "cell_type": "code",
      "metadata": {
        "id": "ABlAzaPRIds6"
      },
      "source": [
        "X = pd.get_dummies(X)\r\n",
        "trained_data=pd.get_dummies(trained_data)\r\n",
        "tested_data=pd.get_dummies(tested_data)\r\n",
        "#ทำการสร้างตัวแปร dummy "
      ],
      "execution_count": 99,
      "outputs": []
    },
    {
      "cell_type": "code",
      "metadata": {
        "id": "_8OeQqEOIewZ",
        "colab": {
          "base_uri": "https://localhost:8080/"
        },
        "outputId": "2f7c474d-2be8-42f5-bedd-45845cddc47b"
      },
      "source": [
        "X.shape, trained_data.shape, tested_data.shape"
      ],
      "execution_count": 100,
      "outputs": [
        {
          "output_type": "execute_result",
          "data": {
            "text/plain": [
              "((614, 20), (614, 22), (367, 20))"
            ]
          },
          "metadata": {
            "tags": []
          },
          "execution_count": 100
        }
      ]
    },
    {
      "cell_type": "code",
      "metadata": {
        "id": "DrWD2R6vIgHN"
      },
      "source": [
        "from sklearn.model_selection import train_test_split\r\n",
        "x_train, x_test, y_train, y_test = train_test_split(X,y, test_size=0.35)\r\n",
        "#ทำการแบ่ง train dataset , test dataset โดยแบ่งสัดส่วนเป็น test 35 % , train 65%"
      ],
      "execution_count": 101,
      "outputs": []
    },
    {
      "cell_type": "code",
      "metadata": {
        "id": "JzQhNpkKJold"
      },
      "source": [
        "#import library ต่างๆที่ต้องใช้\r\n",
        "import pandas as pd\r\n",
        "import numpy as np\r\n",
        "import matplotlib.pyplot as plt\r\n",
        "import seaborn as sns\r\n",
        "from sklearn.preprocessing import StandardScaler, LabelEncoder\r\n",
        "from sklearn.model_selection import StratifiedKFold, cross_val_score,GridSearchCV\r\n",
        "from sklearn.metrics import accuracy_score"
      ],
      "execution_count": 102,
      "outputs": []
    },
    {
      "cell_type": "markdown",
      "metadata": {
        "id": "svL5xD_zcvOz"
      },
      "source": [
        "## Tunning Model"
      ]
    },
    {
      "cell_type": "code",
      "metadata": {
        "id": "x8KiH0M5VjYl"
      },
      "source": [
        "# เหตุผลที่ใช้ model XGBoost เพราะสามารถใช้ hardwareได้อย่างมีประสิทธิภาพ ,สามารถลดการเกิดoverfitได้ และ มีประสิทธิภาพในการ perdictได้สูง\r\n",
        "\r\n",
        "# ใช้ n_splits=15 ทำการแบ่งข้อมูลเป็น 14-16 ส่วน ค่านี้จะเป็นค่าที่ดีที่สุดในการปรับ เพราะทำให้ได้ค่าคะแนนจากการทำนายที่สูง ถ้าเพิ่มค่าจะได้คะแนนตํ่าลงและถ้าลดค่าก็ทำให้คะแนนตํ่าลง\r\n",
        "\r\n",
        "# random_state=5 ให้ทำการสุ่มทีละ 5 ตัวจะได้คะแนนที่สูงที่สุด เมื่อปรับเป็นเลขอื่นจะทำให้คะแนนจากการทำนายน้อยลงไปด้วย\r\n",
        "\r\n",
        "# shuffle=True ทำการสุ่มเลขโดยใช้การเรียงลำดับ\r\n",
        "\r\n",
        "# n_estimators=70 ได้ปรับจำนวนที่สามารถทำให้scoreสูงที่สุด จะอยู่ในช่วง 70-85 เป็นช่วงที่ทำให้perfomanceดีขึ้น และช่วงนั้นทำให้performanceเริ่มนิ่งแล้ว\r\n",
        "\r\n",
        "# max_depth=4 ความลึกของtree เมื่อปรับที่ 4 จะทำให้ได้ประสิทธิภาพสูงที่สุด \r\n"
      ],
      "execution_count": 103,
      "outputs": []
    },
    {
      "cell_type": "code",
      "metadata": {
        "id": "8iao80IIIjeW",
        "colab": {
          "base_uri": "https://localhost:8080/"
        },
        "outputId": "7023604f-8ea7-406e-c41b-7f8990530511"
      },
      "source": [
        "from xgboost import XGBClassifier\r\n",
        "j=1 \r\n",
        "mean = 0\r\n",
        "kf = StratifiedKFold(n_splits=15,random_state=5,shuffle=True) \r\n",
        "for train_index,test_index in kf.split(X,y): \r\n",
        " xtr,xts = X.loc[train_index],X.loc[test_index] \r\n",
        " ytr,yts = y[train_index],y[test_index] \r\n",
        " model = XGBClassifier(n_estimators=70, max_depth=3) \r\n",
        " model.fit(xtr, ytr) \r\n",
        " pred_test = model.predict(xts) \r\n",
        " score = accuracy_score(yts,pred_test) \r\n",
        " mean += score\r\n",
        " j+=1\r\n",
        " pred_test = model.predict(tested_data)\r\n",
        " pred = model.predict_proba(xts)[:,1]\r\n",
        "print ('\\n Mean Validation Accuracy',mean/(j-1))\r\n",
        "print(pred_test)\r\n"
      ],
      "execution_count": 104,
      "outputs": [
        {
          "output_type": "stream",
          "text": [
            "\n",
            " Mean Validation Accuracy 0.7980894308943091\n",
            "['Y' 'Y' 'Y' 'Y' 'Y' 'Y' 'Y' 'N' 'Y' 'Y' 'Y' 'Y' 'Y' 'N' 'Y' 'Y' 'Y' 'Y'\n",
            " 'Y' 'Y' 'Y' 'Y' 'Y' 'Y' 'Y' 'N' 'Y' 'Y' 'Y' 'Y' 'Y' 'Y' 'Y' 'Y' 'Y' 'N'\n",
            " 'Y' 'Y' 'Y' 'Y' 'Y' 'Y' 'Y' 'Y' 'Y' 'Y' 'Y' 'Y' 'Y' 'Y' 'Y' 'Y' 'Y' 'Y'\n",
            " 'Y' 'N' 'Y' 'Y' 'N' 'Y' 'Y' 'Y' 'Y' 'N' 'Y' 'Y' 'N' 'N' 'Y' 'N' 'Y' 'Y'\n",
            " 'Y' 'Y' 'Y' 'Y' 'Y' 'Y' 'Y' 'Y' 'N' 'Y' 'N' 'Y' 'N' 'Y' 'Y' 'Y' 'Y' 'Y'\n",
            " 'Y' 'Y' 'Y' 'Y' 'N' 'Y' 'Y' 'Y' 'Y' 'Y' 'Y' 'N' 'Y' 'Y' 'Y' 'Y' 'N' 'Y'\n",
            " 'Y' 'Y' 'Y' 'Y' 'Y' 'Y' 'Y' 'Y' 'Y' 'N' 'N' 'N' 'Y' 'Y' 'Y' 'N' 'N' 'Y'\n",
            " 'N' 'Y' 'Y' 'Y' 'Y' 'Y' 'Y' 'Y' 'Y' 'Y' 'Y' 'Y' 'Y' 'Y' 'N' 'Y' 'N' 'Y'\n",
            " 'Y' 'Y' 'Y' 'N' 'Y' 'Y' 'Y' 'Y' 'Y' 'N' 'Y' 'Y' 'Y' 'Y' 'Y' 'Y' 'Y' 'N'\n",
            " 'Y' 'Y' 'Y' 'N' 'N' 'Y' 'N' 'N' 'Y' 'Y' 'Y' 'N' 'N' 'Y' 'Y' 'Y' 'Y' 'Y'\n",
            " 'Y' 'Y' 'Y' 'Y' 'Y' 'Y' 'Y' 'Y' 'Y' 'Y' 'Y' 'Y' 'N' 'N' 'Y' 'Y' 'N' 'Y'\n",
            " 'N' 'Y' 'Y' 'Y' 'Y' 'Y' 'Y' 'Y' 'Y' 'Y' 'Y' 'Y' 'Y' 'N' 'Y' 'Y' 'Y' 'Y'\n",
            " 'Y' 'Y' 'Y' 'Y' 'Y' 'Y' 'Y' 'Y' 'N' 'Y' 'Y' 'Y' 'Y' 'N' 'Y' 'Y' 'Y' 'Y'\n",
            " 'Y' 'N' 'N' 'Y' 'Y' 'N' 'Y' 'N' 'Y' 'N' 'Y' 'N' 'Y' 'Y' 'Y' 'Y' 'N' 'Y'\n",
            " 'Y' 'Y' 'Y' 'N' 'Y' 'Y' 'Y' 'N' 'Y' 'Y' 'Y' 'Y' 'Y' 'Y' 'N' 'Y' 'N' 'Y'\n",
            " 'Y' 'Y' 'Y' 'N' 'N' 'Y' 'Y' 'Y' 'N' 'Y' 'Y' 'Y' 'Y' 'Y' 'Y' 'Y' 'Y' 'Y'\n",
            " 'Y' 'Y' 'Y' 'Y' 'Y' 'N' 'Y' 'Y' 'Y' 'N' 'Y' 'Y' 'Y' 'N' 'Y' 'Y' 'Y' 'Y'\n",
            " 'Y' 'Y' 'Y' 'Y' 'Y' 'N' 'Y' 'Y' 'Y' 'Y' 'Y' 'N' 'Y' 'Y' 'Y' 'Y' 'Y' 'Y'\n",
            " 'Y' 'N' 'Y' 'Y' 'Y' 'Y' 'Y' 'Y' 'Y' 'Y' 'Y' 'Y' 'Y' 'Y' 'Y' 'N' 'Y' 'Y'\n",
            " 'N' 'Y' 'Y' 'Y' 'N' 'Y' 'Y' 'Y' 'Y' 'Y' 'Y' 'Y' 'Y' 'Y' 'Y' 'Y' 'Y' 'Y'\n",
            " 'Y' 'Y' 'Y' 'Y' 'Y' 'Y' 'Y']\n"
          ],
          "name": "stdout"
        }
      ]
    },
    {
      "cell_type": "code",
      "metadata": {
        "id": "IqzEBhmgIlUA",
        "colab": {
          "base_uri": "https://localhost:8080/"
        },
        "outputId": "83193fbf-aa34-4fe9-aea4-aec139cad477"
      },
      "source": [
        "#นำค่าที่ได้มา predictกับตัวtest data เพื่อหา accuracy score\r\n",
        "pred_cv = model.predict(x_test)\r\n",
        "accuracy_score(y_test,pred_cv)"
      ],
      "execution_count": 105,
      "outputs": [
        {
          "output_type": "execute_result",
          "data": {
            "text/plain": [
              "0.8418604651162791"
            ]
          },
          "metadata": {
            "tags": []
          },
          "execution_count": 105
        }
      ]
    },
    {
      "cell_type": "code",
      "metadata": {
        "id": "PLEEwa-nUori"
      },
      "source": [
        "#ทำการสร้างไฟล์ โดยใช้columnของ'Loan_ID','Loan_Status เพื่อทำการไปcheck score ในเว็ป\r\n",
        "submissionfile = pd.read_csv('sample_submission.csv')"
      ],
      "execution_count": 106,
      "outputs": []
    },
    {
      "cell_type": "code",
      "metadata": {
        "id": "asQHVMl9TfOt"
      },
      "source": [
        "submissionfile['Loan_Status']=pred_test\r\n",
        "submissionfile['Loan_ID']=tested_data2['Loan_ID']\r\n",
        "submissionfile['Loan_Status'].replace(0, 'N', inplace=True)\r\n",
        "submissionfile['Loan_Status'].replace(1, 'Y', inplace=True)"
      ],
      "execution_count": 107,
      "outputs": []
    },
    {
      "cell_type": "code",
      "metadata": {
        "id": "RhIbHVUDTzlN"
      },
      "source": [
        "pd.DataFrame(submissionfile, columns=['Loan_ID','Loan_Status']).to_csv('/content/test_score_last.csv', index=False)"
      ],
      "execution_count": 108,
      "outputs": []
    }
  ]
}